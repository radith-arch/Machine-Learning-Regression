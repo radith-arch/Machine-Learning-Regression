{
  "nbformat": 4,
  "nbformat_minor": 0,
  "metadata": {
    "colab": {
      "name": "Macam-Macam Regression California Dataset.ipynb",
      "provenance": [],
      "collapsed_sections": []
    },
    "kernelspec": {
      "name": "python3",
      "display_name": "Python 3"
    }
  },
  "cells": [
    {
      "cell_type": "code",
      "metadata": {
        "id": "v-uObId342pd"
      },
      "source": [
        "import os\n",
        "import pandas as pd\n",
        "import matplotlib.pyplot as plt\n",
        "import seaborn as sns\n",
        "import numpy as np"
      ],
      "execution_count": null,
      "outputs": []
    },
    {
      "cell_type": "code",
      "metadata": {
        "id": "6IBgEEDJ4q7m"
      },
      "source": [
        "directory = os.path.join('sample_data', 'california_housing_train.csv')\n",
        "dataset = pd.read_csv(directory)\n",
        "dataset_numbers = dataset.select_dtypes(include = ['float64'])"
      ],
      "execution_count": null,
      "outputs": []
    },
    {
      "cell_type": "code",
      "metadata": {
        "id": "E2Tia7Hc5Mia"
      },
      "source": [
        "from sklearn import preprocessing\n",
        "scaler = preprocessing.StandardScaler() \n",
        "\n",
        "feature = dataset.drop(['median_house_value'], axis=1)\n",
        "label = dataset['median_house_value'] \n",
        "\n",
        "feature_scaled = scaler.fit_transform(feature.values)\n",
        "label_scaled = scaler.fit_transform(dataset['median_house_value'].values.reshape(-1,1)).flatten()"
      ],
      "execution_count": null,
      "outputs": []
    },
    {
      "cell_type": "code",
      "metadata": {
        "id": "89EHYOeI90Q4"
      },
      "source": [
        "from sklearn.model_selection import train_test_split\n",
        "feature_train, feature_test, label_train, label_test = train_test_split(feature_scaled, label_scaled, test_size=0.2)  "
      ],
      "execution_count": null,
      "outputs": []
    },
    {
      "cell_type": "code",
      "metadata": {
        "id": "N9Zg3M6c92F3",
        "outputId": "fe67736c-78dc-4383-8f6c-27fcba12cf03",
        "colab": {
          "base_uri": "https://localhost:8080/",
          "height": 34
        }
      },
      "source": [
        "from sklearn.metrics import r2_score\n",
        "\n",
        "from sklearn.cross_decomposition import PLSRegression\n",
        "regressor = PLSRegression()\n",
        "\n",
        "regressor.fit(feature_train,label_train)\n",
        "r2_score(regressor.predict(feature_train), label_train)\n",
        "r2_score(regressor.predict(feature_test), label_test)"
      ],
      "execution_count": null,
      "outputs": [
        {
          "output_type": "execute_result",
          "data": {
            "text/plain": [
              "0.17197876209473972"
            ]
          },
          "metadata": {
            "tags": []
          },
          "execution_count": 16
        }
      ]
    },
    {
      "cell_type": "code",
      "metadata": {
        "id": "37J3d_pHbZE8",
        "outputId": "9dca4513-aad8-4be0-94ec-da8a4483c5dd",
        "colab": {
          "base_uri": "https://localhost:8080/",
          "height": 34
        }
      },
      "source": [
        "from sklearn.neighbors import KNeighborsRegressor\n",
        "regressor = KNeighborsRegressor()\n",
        "\n",
        "regressor.fit(feature_train,label_train)\n",
        "r2_score(regressor.predict(feature_train), label_train)\n",
        "r2_score(regressor.predict(feature_test), label_test)"
      ],
      "execution_count": null,
      "outputs": [
        {
          "output_type": "execute_result",
          "data": {
            "text/plain": [
              "0.5983509377438541"
            ]
          },
          "metadata": {
            "tags": []
          },
          "execution_count": 17
        }
      ]
    },
    {
      "cell_type": "code",
      "metadata": {
        "id": "cRLT0yxydRXM",
        "outputId": "7f1f78bb-2eb7-461b-d64e-020443919eef",
        "colab": {
          "base_uri": "https://localhost:8080/",
          "height": 68
        }
      },
      "source": [
        "from sklearn.svm import LinearSVR\n",
        "regressor = LinearSVR()\n",
        "\n",
        "regressor.fit(feature_train,label_train)\n",
        "r2_score(regressor.predict(feature_train), label_train)\n",
        "r2_score(regressor.predict(feature_test), label_test)"
      ],
      "execution_count": null,
      "outputs": [
        {
          "output_type": "stream",
          "text": [
            "/usr/local/lib/python3.6/dist-packages/sklearn/svm/_base.py:947: ConvergenceWarning: Liblinear failed to converge, increase the number of iterations.\n",
            "  \"the number of iterations.\", ConvergenceWarning)\n"
          ],
          "name": "stderr"
        },
        {
          "output_type": "execute_result",
          "data": {
            "text/plain": [
              "0.4454928045661658"
            ]
          },
          "metadata": {
            "tags": []
          },
          "execution_count": 18
        }
      ]
    },
    {
      "cell_type": "code",
      "metadata": {
        "id": "s8QNNR5vdxMb",
        "outputId": "4d315088-1891-4306-a571-a5b74bfee974",
        "colab": {
          "base_uri": "https://localhost:8080/",
          "height": 34
        }
      },
      "source": [
        "from sklearn.svm import SVR\n",
        "regressor = SVR(kernel='rbf')\n",
        "\n",
        "regressor.fit(feature_train,label_train)\n",
        "r2_score(regressor.predict(feature_train), label_train)\n",
        "r2_score(regressor.predict(feature_test), label_test)"
      ],
      "execution_count": null,
      "outputs": [
        {
          "output_type": "execute_result",
          "data": {
            "text/plain": [
              "0.6840886266589723"
            ]
          },
          "metadata": {
            "tags": []
          },
          "execution_count": 19
        }
      ]
    },
    {
      "cell_type": "code",
      "metadata": {
        "id": "C_UOxqMXeOkl",
        "outputId": "9d167778-b093-4322-f5b2-ddbf967bc572",
        "colab": {
          "base_uri": "https://localhost:8080/",
          "height": 34
        }
      },
      "source": [
        "from sklearn.svm import NuSVR\n",
        "regressor = NuSVR()\n",
        "\n",
        "regressor.fit(feature_train,label_train)\n",
        "r2_score(regressor.predict(feature_train), label_train)\n",
        "r2_score(regressor.predict(feature_test), label_test)"
      ],
      "execution_count": null,
      "outputs": [
        {
          "output_type": "execute_result",
          "data": {
            "text/plain": [
              "0.6826046301236792"
            ]
          },
          "metadata": {
            "tags": []
          },
          "execution_count": 20
        }
      ]
    },
    {
      "cell_type": "code",
      "metadata": {
        "id": "NxNkiH0bed1w",
        "outputId": "39fd9c8a-67f4-4052-bdc5-5a2989396e79",
        "colab": {
          "base_uri": "https://localhost:8080/",
          "height": 34
        }
      },
      "source": [
        "from sklearn.ensemble import GradientBoostingRegressor\n",
        "regressor = GradientBoostingRegressor()\n",
        "\n",
        "regressor.fit(feature_train,label_train)\n",
        "r2_score(regressor.predict(feature_train), label_train)\n",
        "r2_score(regressor.predict(feature_test), label_test)"
      ],
      "execution_count": null,
      "outputs": [
        {
          "output_type": "execute_result",
          "data": {
            "text/plain": [
              "0.6879634016627337"
            ]
          },
          "metadata": {
            "tags": []
          },
          "execution_count": 21
        }
      ]
    },
    {
      "cell_type": "code",
      "metadata": {
        "id": "k1Jayv20fiEo",
        "outputId": "d8f0b8a5-88e2-4f17-9ba4-39811c513b38",
        "colab": {
          "base_uri": "https://localhost:8080/",
          "height": 34
        }
      },
      "source": [
        "from sklearn.gaussian_process import GaussianProcessRegressor\n",
        "regressor = GaussianProcessRegressor()\n",
        "\n",
        "regressor.fit(feature_train,label_train)\n",
        "r2_score(regressor.predict(feature_train), label_train)\n",
        "r2_score(regressor.predict(feature_test), label_test)"
      ],
      "execution_count": null,
      "outputs": [
        {
          "output_type": "execute_result",
          "data": {
            "text/plain": [
              "0.001400331259786669"
            ]
          },
          "metadata": {
            "tags": []
          },
          "execution_count": 22
        }
      ]
    },
    {
      "cell_type": "code",
      "metadata": {
        "id": "3U5fzLTkggOj",
        "outputId": "c50945f6-5f3f-4840-8091-412111992763",
        "colab": {
          "base_uri": "https://localhost:8080/",
          "height": 34
        }
      },
      "source": [
        "from sklearn.kernel_ridge import KernelRidge\n",
        "regressor = KernelRidge()\n",
        "\n",
        "regressor.fit(feature_train,label_train)\n",
        "r2_score(regressor.predict(feature_train), label_train)\n",
        "r2_score(regressor.predict(feature_test), label_test)"
      ],
      "execution_count": null,
      "outputs": [
        {
          "output_type": "execute_result",
          "data": {
            "text/plain": [
              "0.46170915360440723"
            ]
          },
          "metadata": {
            "tags": []
          },
          "execution_count": 23
        }
      ]
    },
    {
      "cell_type": "code",
      "metadata": {
        "id": "dM4u_8W0g1V2",
        "outputId": "32f0a404-85af-49d8-ca91-7738136f3722",
        "colab": {
          "base_uri": "https://localhost:8080/",
          "height": 34
        }
      },
      "source": [
        "from sklearn.tree import ExtraTreeRegressor\n",
        "regressor = ExtraTreeRegressor()\n",
        "\n",
        "regressor.fit(feature_train,label_train)\n",
        "r2_score(regressor.predict(feature_train), label_train)\n",
        "r2_score(regressor.predict(feature_test), label_test)"
      ],
      "execution_count": null,
      "outputs": [
        {
          "output_type": "execute_result",
          "data": {
            "text/plain": [
              "0.465206920061471"
            ]
          },
          "metadata": {
            "tags": []
          },
          "execution_count": 24
        }
      ]
    },
    {
      "cell_type": "code",
      "metadata": {
        "id": "Vi0ZcrQgDflv",
        "outputId": "84459035-b07c-45d0-ed8d-238d95157181",
        "colab": {
          "base_uri": "https://localhost:8080/",
          "height": 34
        }
      },
      "source": [
        "from xgboost import XGBRegressor\n",
        "\n",
        "xgb_reg= XGBRegressor(objective = 'reg:linear', colsample_bytree=0.3, learning_rate=0.1, max_depth=5, alpha=10, n_estimators=10)\n",
        "\n",
        "xgb_reg.fit(feature_train, label_train)\n",
        "\n",
        "y_pred = xgb_reg.predict(feature_test)"
      ],
      "execution_count": null,
      "outputs": [
        {
          "output_type": "stream",
          "text": [
            "[08:57:07] WARNING: /workspace/src/objective/regression_obj.cu:152: reg:linear is now deprecated in favor of reg:squarederror.\n"
          ],
          "name": "stdout"
        }
      ]
    },
    {
      "cell_type": "code",
      "metadata": {
        "id": "yMhYWatgFVNu",
        "outputId": "5b7fcff4-de9c-4c06-b60e-796222f0a78c",
        "colab": {
          "base_uri": "https://localhost:8080/",
          "height": 34
        }
      },
      "source": [
        "from sklearn.metrics import mean_squared_error\n",
        "rmse = np.sqrt(mean_squared_error(label_test, y_pred))\n",
        "print(\"RMSE: %f\" % (rmse))"
      ],
      "execution_count": null,
      "outputs": [
        {
          "output_type": "stream",
          "text": [
            "RMSE: 0.816194\n"
          ],
          "name": "stdout"
        }
      ]
    }
  ]
}